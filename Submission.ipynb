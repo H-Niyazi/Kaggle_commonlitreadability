{
 "cells": [
  {
   "cell_type": "code",
   "execution_count": 29,
   "metadata": {},
   "outputs": [],
   "source": [
    "import pandas as pd\n",
    "import matplotlib.pyplot as plt\n",
    "import seaborn as sns\n",
    "\n",
    "import sys\n",
    "import time\n",
    "import re\n",
    "\n",
    "import spacy\n",
    "from spacy import displacy\n",
    "\n",
    "import rich\n",
    "from rich.console import Console\n",
    "from rich import print\n",
    "from rich.theme import Theme\n",
    "\n",
    "from sklearn.feature_extraction.text import CountVectorizer as CV\n",
    "from sklearn.feature_extraction.text import TfidfVectorizer\n",
    "from sklearn.pipeline import make_pipeline\n",
    "from sklearn.model_selection import train_test_split\n",
    "from sklearn.linear_model import LinearRegression\n",
    "from sklearn.linear_model import Ridge\n",
    "from sklearn.metrics import mean_squared_error as mse\n",
    "from sklearn.ensemble import RandomForestClassifier\n",
    "\n",
    "import nltk\n",
    "from nltk.corpus import stopwords\n",
    "from nltk import pos_tag\n",
    "from nltk.tokenize import sent_tokenize, word_tokenize\n",
    "\n",
    "#nltk.download('stopwords')\n",
    "#nltk.download('punkt')\n",
    "#nltk.download('wordnet')"
   ]
  },
  {
   "cell_type": "code",
   "execution_count": 2,
   "metadata": {},
   "outputs": [
    {
     "data": {
      "image/png": "[encoded data removed]",
      "text/plain": [
       "<Figure size 288x57.6 with 1 Axes>"
      ]
     },
     "metadata": {
      "needs_background": "light"
     },
     "output_type": "display_data"
    }
   ],
   "source": [
    "sns.set_context(\"notebook\", font_scale=1.5, rc={\"lines.linewidth\": 2.5})\n",
    "\n",
    "def custom_palette(custom_colors):\n",
    "    customPalette = sns.set_palette(sns.color_palette(custom_colors))\n",
    "    sns.palplot(sns.color_palette(custom_colors),size=0.8)\n",
    "    plt.tick_params(axis='both', labelsize=0, length = 0)\n",
    "\n",
    "palette = [\"#7209B7\",\"#3F88C5\",\"#136F63\",\"#F72585\",\"#FFBA08\"]\n",
    "palette2 = sns.diverging_palette(120, 220, n=20)\n",
    "custom_palette(palette)\n",
    "\n",
    "custom_theme = Theme({\n",
    "    \"info\" : \"italic bold cyan\",\n",
    "    \"warning\": \"italic bold magenta\",\n",
    "    \"danger\": \"bold blue\"\n",
    "})\n",
    "\n",
    "console = Console(theme=custom_theme)"
   ]
  },
  {
   "cell_type": "code",
   "execution_count": 3,
   "metadata": {},
   "outputs": [],
   "source": [
    "train_df = pd.read_csv('train.csv')\n",
    "test_df = pd.read_csv('test.csv')"
   ]
  },
  {
   "cell_type": "code",
   "execution_count": 4,
   "metadata": {},
   "outputs": [
    {
     "data": {
      "text/html": [
       "<div>\n",
       "<style scoped>\n",
       "    .dataframe tbody tr th:only-of-type {\n",
       "        vertical-align: middle;\n",
       "    }\n",
       "\n",
       "    .dataframe tbody tr th {\n",
       "        vertical-align: top;\n",
       "    }\n",
       "\n",
       "    .dataframe thead th {\n",
       "        text-align: right;\n",
       "    }\n",
       "</style>\n",
       "<table border=\"1\" class=\"dataframe\">\n",
       "  <thead>\n",
       "    <tr style=\"text-align: right;\">\n",
       "      <th></th>\n",
       "      <th>id</th>\n",
       "      <th>url_legal</th>\n",
       "      <th>license</th>\n",
       "      <th>excerpt</th>\n",
       "      <th>target</th>\n",
       "      <th>standard_error</th>\n",
       "    </tr>\n",
       "  </thead>\n",
       "  <tbody>\n",
       "    <tr>\n",
       "      <th>0</th>\n",
       "      <td>c12129c31</td>\n",
       "      <td>NaN</td>\n",
       "      <td>NaN</td>\n",
       "      <td>When the young people returned to the ballroom...</td>\n",
       "      <td>-0.340259</td>\n",
       "      <td>0.464009</td>\n",
       "    </tr>\n",
       "    <tr>\n",
       "      <th>1</th>\n",
       "      <td>85aa80a4c</td>\n",
       "      <td>NaN</td>\n",
       "      <td>NaN</td>\n",
       "      <td>All through dinner time, Mrs. Fayre was somewh...</td>\n",
       "      <td>-0.315372</td>\n",
       "      <td>0.480805</td>\n",
       "    </tr>\n",
       "    <tr>\n",
       "      <th>2</th>\n",
       "      <td>b69ac6792</td>\n",
       "      <td>NaN</td>\n",
       "      <td>NaN</td>\n",
       "      <td>As Roger had predicted, the snow departed as q...</td>\n",
       "      <td>-0.580118</td>\n",
       "      <td>0.476676</td>\n",
       "    </tr>\n",
       "    <tr>\n",
       "      <th>3</th>\n",
       "      <td>dd1000b26</td>\n",
       "      <td>NaN</td>\n",
       "      <td>NaN</td>\n",
       "      <td>And outside before the palace a great garden w...</td>\n",
       "      <td>-1.054013</td>\n",
       "      <td>0.450007</td>\n",
       "    </tr>\n",
       "    <tr>\n",
       "      <th>4</th>\n",
       "      <td>37c1b32fb</td>\n",
       "      <td>NaN</td>\n",
       "      <td>NaN</td>\n",
       "      <td>Once upon a time there were Three Bears who li...</td>\n",
       "      <td>0.247197</td>\n",
       "      <td>0.510845</td>\n",
       "    </tr>\n",
       "  </tbody>\n",
       "</table>\n",
       "</div>"
      ],
      "text/plain": [
       "          id url_legal license  \\\n",
       "0  c12129c31       NaN     NaN   \n",
       "1  85aa80a4c       NaN     NaN   \n",
       "2  b69ac6792       NaN     NaN   \n",
       "3  dd1000b26       NaN     NaN   \n",
       "4  37c1b32fb       NaN     NaN   \n",
       "\n",
       "                                             excerpt    target  standard_error  \n",
       "0  When the young people returned to the ballroom... -0.340259        0.464009  \n",
       "1  All through dinner time, Mrs. Fayre was somewh... -0.315372        0.480805  \n",
       "2  As Roger had predicted, the snow departed as q... -0.580118        0.476676  \n",
       "3  And outside before the palace a great garden w... -1.054013        0.450007  \n",
       "4  Once upon a time there were Three Bears who li...  0.247197        0.510845  "
      ]
     },
     "execution_count": 4,
     "metadata": {},
     "output_type": "execute_result"
    }
   ],
   "source": [
    "train_df.head()"
   ]
  },
  {
   "cell_type": "code",
   "execution_count": 5,
   "metadata": {},
   "outputs": [
    {
     "data": {
      "text/plain": [
       "'When the young people returned to the ballroom, it presented a decidedly changed appearance. Instead of an interior scene, it was a winter landscape.\\nThe floor was covered with snow-white canvas, not laid on smoothly, but rumpled over bumps and hillocks, like a real snow field. The numerous palms and evergreens that had decorated the room, were powdered with flour and strewn with tufts of cotton, like snow. Also diamond dust had been lightly sprinkled on them, and glittering crystal icicles hung from the branches.\\nAt each end of the room, on the wall, hung a beautiful bear-skin rug.\\nThese rugs were for prizes, one for the girls and one for the boys. And this was the game.\\nThe girls were gathered at one end of the room and the boys at the other, and one end was called the North Pole, and the other the South Pole. Each player was given a small flag which they were to plant on reaching the Pole.\\nThis would have been an easy matter, but each traveller was obliged to wear snowshoes.'"
      ]
     },
     "execution_count": 5,
     "metadata": {},
     "output_type": "execute_result"
    }
   ],
   "source": [
    "train_df.loc[0, 'excerpt']"
   ]
  },
  {
   "cell_type": "code",
   "execution_count": 6,
   "metadata": {},
   "outputs": [
    {
     "data": {
      "text/html": [
       "<pre style=\"white-space:pre;overflow-x:auto;line-height:normal;font-family:Menlo,'DejaVu Sans Mono',consolas,'Courier New',monospace\">Before preprocessing: \n",
       "</pre>\n"
      ],
      "text/plain": [
       "Before preprocessing: \n"
      ]
     },
     "metadata": {},
     "output_type": "display_data"
    },
    {
     "data": {
      "text/html": [
       "<pre style=\"white-space:pre;overflow-x:auto;line-height:normal;font-family:Menlo,'DejaVu Sans Mono',consolas,'Courier New',monospace\"><span style=\"color: #008000; text-decoration-color: #008000\">\"'Morning, Jeeves,\"</span> I said.\n",
       "<span style=\"color: #008000; text-decoration-color: #008000\">\"Good morning, sir,\"</span> said Jeeves. He put the good old cup of tea softly on the table by my \n",
       "bed, and I took a refreshing sip. Just right, as usual. Not too hot, not too sweet, not too \n",
       "weak, not too strong, not too much milk, and not a drop spilled in the saucer. A most amazing\n",
       "cove, Jeeves. So dashed competent in every respect. I've said it before, and I'll say it \n",
       "again. I mean to say, take just one small instance. Every other valet I've ever had used to \n",
       "barge into my room in the morning while I was still asleep, causing much misery: but Jeeves \n",
       "seems to know when I'm awake by a sort of telepathy. He always floats in with the cup exactly\n",
       "two minutes after I come to life. Makes a deuce of a lot of difference to a fellow's day.\n",
       "<span style=\"color: #008000; text-decoration-color: #008000\">\"How's the weather, Jeeves?\"</span> \n",
       "<span style=\"color: #008000; text-decoration-color: #008000\">\"Exceptionally clement, sir.\"</span>\n",
       "<span style=\"color: #008000; text-decoration-color: #008000\">\"Anything in the papers?\"</span>\n",
       "<span style=\"color: #008000; text-decoration-color: #008000\">\"Some slight friction threatening in the Balkans, sir. Otherwise, nothing.\"</span>\n",
       "</pre>\n"
      ],
      "text/plain": [
       "\u001b[32m\"'Morning, Jeeves,\"\u001b[0m I said.\n",
       "\u001b[32m\"Good morning, sir,\"\u001b[0m said Jeeves. He put the good old cup of tea softly on the table by my \n",
       "bed, and I took a refreshing sip. Just right, as usual. Not too hot, not too sweet, not too \n",
       "weak, not too strong, not too much milk, and not a drop spilled in the saucer. A most amazing\n",
       "cove, Jeeves. So dashed competent in every respect. I've said it before, and I'll say it \n",
       "again. I mean to say, take just one small instance. Every other valet I've ever had used to \n",
       "barge into my room in the morning while I was still asleep, causing much misery: but Jeeves \n",
       "seems to know when I'm awake by a sort of telepathy. He always floats in with the cup exactly\n",
       "two minutes after I come to life. Makes a deuce of a lot of difference to a fellow's day.\n",
       "\u001b[32m\"How's the weather, Jeeves?\"\u001b[0m \n",
       "\u001b[32m\"Exceptionally clement, sir.\"\u001b[0m\n",
       "\u001b[32m\"Anything in the papers?\"\u001b[0m\n",
       "\u001b[32m\"Some slight friction threatening in the Balkans, sir. Otherwise, nothing.\"\u001b[0m\n"
      ]
     },
     "metadata": {},
     "output_type": "display_data"
    },
    {
     "data": {
      "text/html": [
       "<pre style=\"white-space:pre;overflow-x:auto;line-height:normal;font-family:Menlo,'DejaVu Sans Mono',consolas,'Courier New',monospace\">After preprocessing: \n",
       "</pre>\n"
      ],
      "text/plain": [
       "After preprocessing: \n"
      ]
     },
     "metadata": {},
     "output_type": "display_data"
    },
    {
     "data": {
      "text/html": [
       "<pre style=\"white-space:pre;overflow-x:auto;line-height:normal;font-family:Menlo,'DejaVu Sans Mono',consolas,'Courier New',monospace\">morning jeeves said good morning sir said jeeves put good old cup tea softly table bed took \n",
       "refreshing sip right usual hot sweet weak strong much milk drop spilled saucer amazing cove \n",
       "jeeves dashed competent every respect said say mean say take one small instance every valet \n",
       "ever used barge room morning still asleep causing much misery jeeves seems know awake sort \n",
       "telepathy always float cup exactly two minute come life make deuce lot difference fellow day \n",
       "weather jeeves exceptionally clement sir anything paper slight friction threatening balkan \n",
       "sir otherwise nothing\n",
       "</pre>\n"
      ],
      "text/plain": [
       "morning jeeves said good morning sir said jeeves put good old cup tea softly table bed took \n",
       "refreshing sip right usual hot sweet weak strong much milk drop spilled saucer amazing cove \n",
       "jeeves dashed competent every respect said say mean say take one small instance every valet \n",
       "ever used barge room morning still asleep causing much misery jeeves seems know awake sort \n",
       "telepathy always float cup exactly two minute come life make deuce lot difference fellow day \n",
       "weather jeeves exceptionally clement sir anything paper slight friction threatening balkan \n",
       "sir otherwise nothing\n"
      ]
     },
     "metadata": {},
     "output_type": "display_data"
    }
   ],
   "source": [
    "excerpt1 = train_df['excerpt'].min()\n",
    "\n",
    "print(\"Before preprocessing: \")\n",
    "print(excerpt1)\n",
    "\n",
    "e = re.sub(\"[^a-zA-Z]\", \" \", excerpt1)\n",
    "e = e.lower()\n",
    "        \n",
    "e = nltk.word_tokenize(e)\n",
    "        \n",
    "e = [word for word in e if not word in set(stopwords.words(\"english\"))]\n",
    "        \n",
    "lemma = nltk.WordNetLemmatizer()\n",
    "e = [lemma.lemmatize(word) for word in e]\n",
    "e=\" \".join(e)\n",
    "print(\"After preprocessing: \")\n",
    "print(e)"
   ]
  },
  {
   "cell_type": "code",
   "execution_count": 7,
   "metadata": {},
   "outputs": [],
   "source": [
    "def preprocess(data):\n",
    "    excerpt_processed=[]\n",
    "    for e in data['excerpt']:\n",
    "        \n",
    "        # find alphabets\n",
    "        e = re.sub(\"[^a-zA-Z]\", \" \", e)\n",
    "        \n",
    "        # convert to lower case\n",
    "        e = e.lower()\n",
    "        \n",
    "        # tokenize words\n",
    "        e = nltk.word_tokenize(e)\n",
    "        \n",
    "        # remove stopwords\n",
    "        e = [word for word in e if not word in set(stopwords.words(\"english\"))]\n",
    "        \n",
    "        # lemmatization\n",
    "        lemma = nltk.WordNetLemmatizer()\n",
    "        e = [lemma.lemmatize(word) for word in e]\n",
    "        e=\" \".join(e)\n",
    "        \n",
    "        excerpt_processed.append(e)\n",
    "        \n",
    "    return excerpt_processed "
   ]
  },
  {
   "cell_type": "code",
   "execution_count": 11,
   "metadata": {},
   "outputs": [],
   "source": [
    "train_df[\"excerpt_preprocessed\"] = preprocess(train_df)\n",
    "test_df[\"excerpt_preprocessed\"] = preprocess(test_df)\n",
    "\n",
    "#train_df.to_csv(\"train_excerpt_preprocessed.csv\")\n",
    "#test_df.to_csv(\"test_excerpt_preprocessed.csv\")"
   ]
  },
  {
   "cell_type": "code",
   "execution_count": 12,
   "metadata": {},
   "outputs": [
    {
     "data": {
      "text/html": [
       "<pre style=\"white-space:pre;overflow-x:auto;line-height:normal;font-family:Menlo,'DejaVu Sans Mono',consolas,'Courier New',monospace\"><span style=\"color: #800080; text-decoration-color: #800080; font-weight: bold; font-style: italic\">--- Model: Ridge Regression ---</span>\n",
       "</pre>\n"
      ],
      "text/plain": [
       "\u001b[1;3;35m--- Model: Ridge Regression ---\u001b[0m\n"
      ]
     },
     "metadata": {},
     "output_type": "display_data"
    },
    {
     "data": {
      "text/html": [
       "<pre style=\"white-space:pre;overflow-x:auto;line-height:normal;font-family:Menlo,'DejaVu Sans Mono',consolas,'Courier New',monospace\"><span style=\"color: #000080; text-decoration-color: #000080; font-weight: bold\">MSE:  </span><span style=\"color: #008080; text-decoration-color: #008080; font-weight: bold\">0.5408408615292747</span>\n",
       "</pre>\n"
      ],
      "text/plain": [
       "\u001b[1;34mMSE:  \u001b[0m\u001b[1;36m0.5408408615292747\u001b[0m\n"
      ]
     },
     "metadata": {},
     "output_type": "display_data"
    },
    {
     "data": {
      "text/html": [
       "<pre style=\"white-space:pre;overflow-x:auto;line-height:normal;font-family:Menlo,'DejaVu Sans Mono',consolas,'Courier New',monospace\"><span style=\"color: #000080; text-decoration-color: #000080; font-weight: bold\">Training time: </span><span style=\"color: #008080; text-decoration-color: #008080; font-weight: bold\">0.21265506744384766</span>\n",
       "</pre>\n"
      ],
      "text/plain": [
       "\u001b[1;34mTraining time: \u001b[0m\u001b[1;36m0.21265506744384766\u001b[0m\n"
      ]
     },
     "metadata": {},
     "output_type": "display_data"
    },
    {
     "data": {
      "text/html": [
       "<pre style=\"white-space:pre;overflow-x:auto;line-height:normal;font-family:Menlo,'DejaVu Sans Mono',consolas,'Courier New',monospace\"><span style=\"color: #800080; text-decoration-color: #800080; font-weight: bold; font-style: italic\">--- Model: Linear Regression ---</span>\n",
       "</pre>\n"
      ],
      "text/plain": [
       "\u001b[1;3;35m--- Model: Linear Regression ---\u001b[0m\n"
      ]
     },
     "metadata": {},
     "output_type": "display_data"
    },
    {
     "data": {
      "text/html": [
       "<pre style=\"white-space:pre;overflow-x:auto;line-height:normal;font-family:Menlo,'DejaVu Sans Mono',consolas,'Courier New',monospace\"><span style=\"color: #000080; text-decoration-color: #000080; font-weight: bold\">MSE:  </span><span style=\"color: #008080; text-decoration-color: #008080; font-weight: bold\">0.5971163067912272</span>\n",
       "</pre>\n"
      ],
      "text/plain": [
       "\u001b[1;34mMSE:  \u001b[0m\u001b[1;36m0.5971163067912272\u001b[0m\n"
      ]
     },
     "metadata": {},
     "output_type": "display_data"
    },
    {
     "data": {
      "text/html": [
       "<pre style=\"white-space:pre;overflow-x:auto;line-height:normal;font-family:Menlo,'DejaVu Sans Mono',consolas,'Courier New',monospace\"><span style=\"color: #000080; text-decoration-color: #000080; font-weight: bold\">Training time: </span><span style=\"color: #008080; text-decoration-color: #008080; font-weight: bold\">0.24559903144836426</span>\n",
       "</pre>\n"
      ],
      "text/plain": [
       "\u001b[1;34mTraining time: \u001b[0m\u001b[1;36m0.24559903144836426\u001b[0m\n"
      ]
     },
     "metadata": {},
     "output_type": "display_data"
    }
   ],
   "source": [
    "def training(model, X_train, y_train, X_test, y_test, model_name):\n",
    "    t1 = time.time()\n",
    "    \n",
    "    model = make_pipeline(\n",
    "        TfidfVectorizer(binary=True, ngram_range=(1,1)),\n",
    "        model,\n",
    "    )\n",
    "    \n",
    "    model.fit(X_train, y_train)\n",
    "    y_pred = model.predict(X_test)\n",
    "    MSE = mse(y_test, y_pred)\n",
    "    \n",
    "    t2 = time.time()\n",
    "    training_time = t2-t1 \n",
    "    \n",
    "    console.print(\"--- Model:\", model_name,\"---\", style='warning')\n",
    "    console.print(\"MSE: \", MSE, style='danger')\n",
    "    console.print(\"Training time:\", training_time, style='danger')\n",
    "\n",
    "ridge = Ridge(fit_intercept = True, normalize = False)\n",
    "lr = LinearRegression()\n",
    "m = [ridge,lr]\n",
    "mn = [\"Ridge Regression\",\"Linear Regression\"]\n",
    "\n",
    "X = train_df[\"excerpt_preprocessed\"]\n",
    "y = train_df['target']\n",
    "\n",
    "X_train, X_test, y_train, y_test = train_test_split(X, y, test_size=0.33, random_state=42)\n",
    "\n",
    "for i in range(0,len(m)):\n",
    "    training(model=m[i], X_train=X_train, y_train=y_train, X_test=X_test,y_test=y_test, model_name=mn[i])"
   ]
  },
  {
   "cell_type": "code",
   "execution_count": 13,
   "metadata": {},
   "outputs": [],
   "source": [
    "def training_all(model,X,y):\n",
    "    \n",
    "    model = make_pipeline(\n",
    "        TfidfVectorizer(binary=True, ngram_range=(1,1)),\n",
    "        model,\n",
    "    )\n",
    "    model.fit(X, y)\n",
    "    y_pred = model.predict(test_df[\"excerpt_preprocessed\"])\n",
    "    \n",
    "    return y_pred"
   ]
  },
  {
   "cell_type": "code",
   "execution_count": 14,
   "metadata": {},
   "outputs": [
    {
     "data": {
      "text/html": [
       "<div>\n",
       "<style scoped>\n",
       "    .dataframe tbody tr th:only-of-type {\n",
       "        vertical-align: middle;\n",
       "    }\n",
       "\n",
       "    .dataframe tbody tr th {\n",
       "        vertical-align: top;\n",
       "    }\n",
       "\n",
       "    .dataframe thead th {\n",
       "        text-align: right;\n",
       "    }\n",
       "</style>\n",
       "<table border=\"1\" class=\"dataframe\">\n",
       "  <thead>\n",
       "    <tr style=\"text-align: right;\">\n",
       "      <th></th>\n",
       "      <th>id</th>\n",
       "      <th>target</th>\n",
       "    </tr>\n",
       "  </thead>\n",
       "  <tbody>\n",
       "    <tr>\n",
       "      <th>0</th>\n",
       "      <td>c0f722661</td>\n",
       "      <td>-1.321194</td>\n",
       "    </tr>\n",
       "    <tr>\n",
       "      <th>1</th>\n",
       "      <td>f0953f0a5</td>\n",
       "      <td>-0.620439</td>\n",
       "    </tr>\n",
       "    <tr>\n",
       "      <th>2</th>\n",
       "      <td>0df072751</td>\n",
       "      <td>-0.542019</td>\n",
       "    </tr>\n",
       "    <tr>\n",
       "      <th>3</th>\n",
       "      <td>04caf4e0c</td>\n",
       "      <td>-2.311644</td>\n",
       "    </tr>\n",
       "    <tr>\n",
       "      <th>4</th>\n",
       "      <td>0e63f8bea</td>\n",
       "      <td>-1.603932</td>\n",
       "    </tr>\n",
       "    <tr>\n",
       "      <th>5</th>\n",
       "      <td>12537fe78</td>\n",
       "      <td>-0.425918</td>\n",
       "    </tr>\n",
       "    <tr>\n",
       "      <th>6</th>\n",
       "      <td>965e592c0</td>\n",
       "      <td>-0.087885</td>\n",
       "    </tr>\n",
       "  </tbody>\n",
       "</table>\n",
       "</div>"
      ],
      "text/plain": [
       "          id    target\n",
       "0  c0f722661 -1.321194\n",
       "1  f0953f0a5 -0.620439\n",
       "2  0df072751 -0.542019\n",
       "3  04caf4e0c -2.311644\n",
       "4  0e63f8bea -1.603932\n",
       "5  12537fe78 -0.425918\n",
       "6  965e592c0 -0.087885"
      ]
     },
     "execution_count": 14,
     "metadata": {},
     "output_type": "execute_result"
    }
   ],
   "source": [
    "test_pred = training_all(lr,X,y)\n",
    "predictions = pd.DataFrame()\n",
    "predictions['id'] = test_df['id']\n",
    "predictions['target'] = test_pred\n",
    "predictions.to_csv(\"submission.csv\", index=False)\n",
    "predictions"
   ]
  },
  {
   "cell_type": "code",
   "execution_count": 38,
   "metadata": {},
   "outputs": [
    {
     "data": {
      "text/html": [
       "<div>\n",
       "<style scoped>\n",
       "    .dataframe tbody tr th:only-of-type {\n",
       "        vertical-align: middle;\n",
       "    }\n",
       "\n",
       "    .dataframe tbody tr th {\n",
       "        vertical-align: top;\n",
       "    }\n",
       "\n",
       "    .dataframe thead th {\n",
       "        text-align: right;\n",
       "    }\n",
       "</style>\n",
       "<table border=\"1\" class=\"dataframe\">\n",
       "  <thead>\n",
       "    <tr style=\"text-align: right;\">\n",
       "      <th></th>\n",
       "      <th>id</th>\n",
       "      <th>target</th>\n",
       "    </tr>\n",
       "  </thead>\n",
       "  <tbody>\n",
       "    <tr>\n",
       "      <th>0</th>\n",
       "      <td>c0f722661</td>\n",
       "      <td>-1.216041</td>\n",
       "    </tr>\n",
       "    <tr>\n",
       "      <th>1</th>\n",
       "      <td>f0953f0a5</td>\n",
       "      <td>-0.496235</td>\n",
       "    </tr>\n",
       "    <tr>\n",
       "      <th>2</th>\n",
       "      <td>0df072751</td>\n",
       "      <td>-0.818767</td>\n",
       "    </tr>\n",
       "    <tr>\n",
       "      <th>3</th>\n",
       "      <td>04caf4e0c</td>\n",
       "      <td>-1.945870</td>\n",
       "    </tr>\n",
       "    <tr>\n",
       "      <th>4</th>\n",
       "      <td>0e63f8bea</td>\n",
       "      <td>-1.511735</td>\n",
       "    </tr>\n",
       "    <tr>\n",
       "      <th>5</th>\n",
       "      <td>12537fe78</td>\n",
       "      <td>-0.524104</td>\n",
       "    </tr>\n",
       "    <tr>\n",
       "      <th>6</th>\n",
       "      <td>965e592c0</td>\n",
       "      <td>-0.043354</td>\n",
       "    </tr>\n",
       "  </tbody>\n",
       "</table>\n",
       "</div>"
      ],
      "text/plain": [
       "          id    target\n",
       "0  c0f722661 -1.216041\n",
       "1  f0953f0a5 -0.496235\n",
       "2  0df072751 -0.818767\n",
       "3  04caf4e0c -1.945870\n",
       "4  0e63f8bea -1.511735\n",
       "5  12537fe78 -0.524104\n",
       "6  965e592c0 -0.043354"
      ]
     },
     "execution_count": 38,
     "metadata": {},
     "output_type": "execute_result"
    }
   ],
   "source": [
    "test_pred = training_all(ridge,X,y)\n",
    "predictions = pd.DataFrame()\n",
    "predictions['id'] = test_df['id']\n",
    "predictions['target'] = test_pred\n",
    "predictions.to_csv(\"submission.csv\", index=False)\n",
    "predictions"
   ]
  },
  {
   "cell_type": "code",
   "execution_count": null,
   "metadata": {},
   "outputs": [],
   "source": []
  }
 ],
 "metadata": {
  "kernelspec": {
   "display_name": "Python 3",
   "language": "python",
   "name": "python3"
  },
  "language_info": {
   "codemirror_mode": {
    "name": "ipython",
    "version": 3
   },
   "file_extension": ".py",
   "mimetype": "text/x-python",
   "name": "python",
   "nbconvert_exporter": "python",
   "pygments_lexer": "ipython3",
   "version": "3.8.5"
  }
 },
 "nbformat": 4,
 "nbformat_minor": 4
}
